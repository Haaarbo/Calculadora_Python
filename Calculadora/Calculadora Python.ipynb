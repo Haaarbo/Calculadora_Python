{
 "cells": [
  {
   "cell_type": "code",
   "execution_count": null,
   "id": "9de38a83",
   "metadata": {},
   "outputs": [],
   "source": [
    "operacoes = {\n",
    "    1: lambda x, y: x+y,\n",
    "    2: lambda x, y: x-y,\n",
    "    3: lambda x, y: x*y,\n",
    "    4: lambda x, y: x/y\n",
    "}\n",
    "\n",
    "print(f'{\"Calculadora Python\":-^60}')\n",
    "print('Escolha entre uma das opções a seguir:\\n')\n",
    "print('1 - Soma\\n2 - Subtração\\n3 - Multiplicação\\n4 - Divisão\\n')\n",
    "while True:\n",
    "    op = input('Digite sua opção (1/2/3/4): ')\n",
    "    if op in '1234':\n",
    "        break\n",
    "    print('Opção inválida, tente novamente...\\n')\n",
    "n1 = int(input('Digite o primeiro número: '))\n",
    "n2 = int(input('Digite o segundo número: '))\n",
    "\n",
    "op = int(op)\n",
    "resultado = operacoes[op](n1, n2)\n",
    "print(resultado)"
   ]
  },
  {
   "cell_type": "code",
   "execution_count": null,
   "id": "b8d0a0cf",
   "metadata": {},
   "outputs": [],
   "source": []
  }
 ],
 "metadata": {
  "kernelspec": {
   "display_name": "Python 3 (ipykernel)",
   "language": "python",
   "name": "python3"
  },
  "language_info": {
   "codemirror_mode": {
    "name": "ipython",
    "version": 3
   },
   "file_extension": ".py",
   "mimetype": "text/x-python",
   "name": "python",
   "nbconvert_exporter": "python",
   "pygments_lexer": "ipython3",
   "version": "3.9.13"
  }
 },
 "nbformat": 4,
 "nbformat_minor": 5
}
